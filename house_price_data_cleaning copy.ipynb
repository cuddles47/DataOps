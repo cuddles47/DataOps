{
 "cells": [
  {
   "cell_type": "code",
   "execution_count": null,
   "metadata": {
    "execution": {
     "iopub.execute_input": "2025-02-22T06:42:30.120248Z",
     "iopub.status.busy": "2025-02-22T06:42:30.119955Z",
     "iopub.status.idle": "2025-02-22T06:42:30.934554Z",
     "shell.execute_reply": "2025-02-22T06:42:30.933007Z",
     "shell.execute_reply.started": "2025-02-22T06:42:30.120193Z"
    },
    "trusted": true
   },
   "outputs": [],
   "source": [
    "import numpy as np\n",
    "import pandas as pd\n",
    "import psycopg2\n",
    "from sqlalchemy import create_engine"
   ]
  },
  {
   "cell_type": "markdown",
   "metadata": {},
   "source": [
    "## Loading the data from separate files to combine in one "
   ]
  },
  {
   "cell_type": "code",
   "execution_count": null,
   "metadata": {
    "execution": {
     "iopub.execute_input": "2025-02-22T06:42:30.936528Z",
     "iopub.status.busy": "2025-02-22T06:42:30.935876Z",
     "iopub.status.idle": "2025-02-22T06:42:41.08921Z",
     "shell.execute_reply": "2025-02-22T06:42:41.088273Z",
     "shell.execute_reply.started": "2025-02-22T06:42:30.936482Z"
    },
    "trusted": true
   },
   "outputs": [],
   "source": [
    "db_params = {\n",
    "    'host': 'localhost',  # Change to your PostgreSQL host\n",
    "    'port': '5432',       # Default PostgreSQL port\n",
    "    'database': 'landing-zone',\n",
    "    'user': 'your_username',  # Replace with your PostgreSQL username\n",
    "    'password': 'your_password'  # Replace with your PostgreSQL password\n",
    "}\n",
    "\n",
    "# Create connection string\n",
    "conn_string = f\"postgresql://{db_params['user']}:{db_params['password']}@{db_params['host']}:{db_params['port']}/{db_params['database']}\"\n",
    "engine = create_engine(conn_string)\n",
    "\n",
    "# List of provinces\n",
    "provinces = ['ab', 'bc', 'mb', 'nb', 'nl', 'ns', 'nt', 'on', 'pe', 'sk', 'yt']\n",
    "\n",
    "# Load each province's data from PostgreSQL\n",
    "province_dataframes = {}\n",
    "for province in provinces:\n",
    "    table_name = f\"data_{province}\"  # Assuming table names match file names\n",
    "    try:\n",
    "        query = f\"SELECT * FROM {table_name}\"\n",
    "        df = pd.read_sql(query, engine)\n",
    "        province_dataframes[f\"data_{province}\"] = df\n",
    "        print(f\"Loaded {len(df)} rows from table {table_name}\")\n",
    "    except Exception as e:\n",
    "        print(f\"Error loading {table_name}: {str(e)}\")\n",
    "        province_dataframes[f\"data_{province}\"] = pd.DataFrame()  # Empty dataframe for missing tables\n",
    "\n",
    "# Assign dataframes to individual variables\n",
    "data_ab = province_dataframes['data_ab']\n",
    "data_bc = province_dataframes['data_bc']\n",
    "data_mb = province_dataframes['data_mb']\n",
    "data_nb = province_dataframes['data_nb']\n",
    "data_nl = province_dataframes['data_nl']\n",
    "data_ns = province_dataframes['data_ns']\n",
    "data_nt = province_dataframes['data_nt']\n",
    "data_on = province_dataframes['data_on']\n",
    "data_pe = province_dataframes['data_pe']\n",
    "data_sk = province_dataframes['data_sk']\n",
    "data_yt = province_dataframes['data_yt']\n",
    "for province in provinces:\n",
    "    df_name = f\"data_{province}\"\n",
    "    df = locals()[df_name]\n",
    "    print(f\"{df_name}: {df.shape[0]} rows, {df.shape[1]} columns\")"
   ]
  },
  {
   "cell_type": "code",
   "execution_count": null,
   "metadata": {
    "execution": {
     "iopub.execute_input": "2025-02-22T06:42:41.091505Z",
     "iopub.status.busy": "2025-02-22T06:42:41.091103Z",
     "iopub.status.idle": "2025-02-22T06:42:41.648125Z",
     "shell.execute_reply": "2025-02-22T06:42:41.646943Z",
     "shell.execute_reply.started": "2025-02-22T06:42:41.091477Z"
    },
    "trusted": true
   },
   "outputs": [],
   "source": [
    "# Concatenate all DataFrames along the rows (`axis=0`) to create a unified dataset\n",
    "\n",
    "df = pd.concat([data_ab, data_bc, data_mb, data_nb, data_nl, \n",
    "                data_ns, data_nt, data_on, data_pe, data_sk,\n",
    "                data_yt], axis=0) \n",
    "df.shape"
   ]
  },
  {
   "cell_type": "markdown",
   "metadata": {},
   "source": [
    "The dataset is quite big. Let's drop null rows and columms"
   ]
  },
  {
   "cell_type": "code",
   "execution_count": null,
   "metadata": {
    "execution": {
     "iopub.execute_input": "2025-02-22T06:42:41.649813Z",
     "iopub.status.busy": "2025-02-22T06:42:41.649493Z",
     "iopub.status.idle": "2025-02-22T06:43:22.667815Z",
     "shell.execute_reply": "2025-02-22T06:43:22.666746Z",
     "shell.execute_reply.started": "2025-02-22T06:42:41.649787Z"
    },
    "trusted": true
   },
   "outputs": [],
   "source": [
    "# Drop duplicated rows\n",
    "df = df.drop_duplicates()\n",
    "\n",
    "# Drop duplicate columns\n",
    "df = df.T.drop_duplicates().T\n",
    "df.shape"
   ]
  },
  {
   "cell_type": "markdown",
   "metadata": {},
   "source": [
    "With option pd.set_option('display.max_columns', None) we can see all features"
   ]
  },
  {
   "cell_type": "code",
   "execution_count": null,
   "metadata": {
    "execution": {
     "iopub.execute_input": "2025-02-22T06:43:22.669306Z",
     "iopub.status.busy": "2025-02-22T06:43:22.668937Z",
     "iopub.status.idle": "2025-02-22T06:43:22.70541Z",
     "shell.execute_reply": "2025-02-22T06:43:22.704338Z",
     "shell.execute_reply.started": "2025-02-22T06:43:22.669274Z"
    },
    "trusted": true
   },
   "outputs": [],
   "source": [
    "pd.set_option('display.max_columns', None)\n",
    "df.head()"
   ]
  },
  {
   "cell_type": "markdown",
   "metadata": {},
   "source": [
    "There is no need in data without address or price, so we can drop all rows with null values in \"streetAddress\", \"addressLocality\", \"addressRegion\", \"price\" columns:"
   ]
  },
  {
   "cell_type": "code",
   "execution_count": null,
   "metadata": {
    "execution": {
     "iopub.execute_input": "2025-02-22T06:43:22.706964Z",
     "iopub.status.busy": "2025-02-22T06:43:22.706581Z",
     "iopub.status.idle": "2025-02-22T06:43:22.764564Z",
     "shell.execute_reply": "2025-02-22T06:43:22.763449Z",
     "shell.execute_reply.started": "2025-02-22T06:43:22.706927Z"
    },
    "trusted": true
   },
   "outputs": [],
   "source": [
    "df = df.dropna(subset=[\"streetAddress\", \"addressLocality\", \"addressRegion\", \"price\"])"
   ]
  },
  {
   "cell_type": "code",
   "execution_count": null,
   "metadata": {
    "execution": {
     "iopub.execute_input": "2025-02-22T06:43:22.766069Z",
     "iopub.status.busy": "2025-02-22T06:43:22.765681Z",
     "iopub.status.idle": "2025-02-22T06:43:22.772438Z",
     "shell.execute_reply": "2025-02-22T06:43:22.771392Z",
     "shell.execute_reply.started": "2025-02-22T06:43:22.76603Z"
    },
    "trusted": true
   },
   "outputs": [],
   "source": [
    "df.shape"
   ]
  },
  {
   "cell_type": "markdown",
   "metadata": {},
   "source": [
    "# Square Footage and property-sqft"
   ]
  },
  {
   "cell_type": "markdown",
   "metadata": {},
   "source": [
    "Columns 'Square Footage', 'property-sqft' have the same information. Let's combine them in one column. "
   ]
  },
  {
   "cell_type": "code",
   "execution_count": null,
   "metadata": {
    "execution": {
     "iopub.execute_input": "2025-02-22T06:43:22.773569Z",
     "iopub.status.busy": "2025-02-22T06:43:22.773213Z",
     "iopub.status.idle": "2025-02-22T06:43:22.822531Z",
     "shell.execute_reply": "2025-02-22T06:43:22.821179Z",
     "shell.execute_reply.started": "2025-02-22T06:43:22.773545Z"
    },
    "trusted": true
   },
   "outputs": [],
   "source": [
    "df[['Square Footage', 'property-sqft']].info()"
   ]
  },
  {
   "cell_type": "code",
   "execution_count": null,
   "metadata": {
    "execution": {
     "iopub.execute_input": "2025-02-22T06:43:22.826893Z",
     "iopub.status.busy": "2025-02-22T06:43:22.826383Z",
     "iopub.status.idle": "2025-02-22T06:43:22.87141Z",
     "shell.execute_reply": "2025-02-22T06:43:22.870499Z",
     "shell.execute_reply.started": "2025-02-22T06:43:22.826866Z"
    },
    "trusted": true
   },
   "outputs": [],
   "source": [
    "df.loc[:, 'Square Footage new'] = df['Square Footage'].str.replace(' SQFT', '', regex=False)\n",
    "df.loc[:, 'Square Footage new'] = df['Square Footage new'].fillna(df['property-sqft'])\n",
    "\n",
    "df[['property-sqft', 'Square Footage', 'Square Footage new']].head()"
   ]
  },
  {
   "cell_type": "code",
   "execution_count": null,
   "metadata": {
    "execution": {
     "iopub.execute_input": "2025-02-22T06:43:22.873696Z",
     "iopub.status.busy": "2025-02-22T06:43:22.873325Z",
     "iopub.status.idle": "2025-02-22T06:43:22.891648Z",
     "shell.execute_reply": "2025-02-22T06:43:22.89052Z",
     "shell.execute_reply.started": "2025-02-22T06:43:22.873667Z"
    },
    "trusted": true
   },
   "outputs": [],
   "source": [
    "df[['Square Footage new']].info()"
   ]
  },
  {
   "cell_type": "markdown",
   "metadata": {},
   "source": [
    "# Acreage"
   ]
  },
  {
   "cell_type": "code",
   "execution_count": null,
   "metadata": {
    "execution": {
     "iopub.execute_input": "2025-02-22T06:43:22.89313Z",
     "iopub.status.busy": "2025-02-22T06:43:22.892704Z",
     "iopub.status.idle": "2025-02-22T06:43:22.914727Z",
     "shell.execute_reply": "2025-02-22T06:43:22.913643Z",
     "shell.execute_reply.started": "2025-02-22T06:43:22.89309Z"
    },
    "trusted": true
   },
   "outputs": [],
   "source": [
    "df.Acreage.head()"
   ]
  },
  {
   "cell_type": "markdown",
   "metadata": {},
   "source": [
    "\"Acreage\" typically refers to a large piece of land, usually measured in acres. In real estate, it implies that the property includes a significant amount of land, often used for farming, ranching, or simply as a large private estate. So, Nan values can be replaced to 0"
   ]
  },
  {
   "cell_type": "code",
   "execution_count": null,
   "metadata": {
    "execution": {
     "iopub.execute_input": "2025-02-22T06:43:22.916375Z",
     "iopub.status.busy": "2025-02-22T06:43:22.915983Z",
     "iopub.status.idle": "2025-02-22T06:43:22.962429Z",
     "shell.execute_reply": "2025-02-22T06:43:22.961206Z",
     "shell.execute_reply.started": "2025-02-22T06:43:22.916333Z"
    },
    "trusted": true
   },
   "outputs": [],
   "source": [
    "df[\"Acreage\"] = df[\"Acreage\"].fillna(0)\n",
    "df.Acreage.head()"
   ]
  },
  {
   "cell_type": "markdown",
   "metadata": {},
   "source": [
    "# property-bath"
   ]
  },
  {
   "cell_type": "code",
   "execution_count": null,
   "metadata": {
    "execution": {
     "iopub.execute_input": "2025-02-22T06:43:22.963654Z",
     "iopub.status.busy": "2025-02-22T06:43:22.963378Z",
     "iopub.status.idle": "2025-02-22T06:43:22.995487Z",
     "shell.execute_reply": "2025-02-22T06:43:22.994149Z",
     "shell.execute_reply.started": "2025-02-22T06:43:22.963632Z"
    },
    "trusted": true
   },
   "outputs": [],
   "source": [
    "df[['property-baths', 'Bath']].describe()"
   ]
  },
  {
   "cell_type": "code",
   "execution_count": null,
   "metadata": {
    "execution": {
     "iopub.execute_input": "2025-02-22T06:43:22.996976Z",
     "iopub.status.busy": "2025-02-22T06:43:22.996592Z",
     "iopub.status.idle": "2025-02-22T06:43:23.047311Z",
     "shell.execute_reply": "2025-02-22T06:43:23.045995Z",
     "shell.execute_reply.started": "2025-02-22T06:43:22.996931Z"
    },
    "trusted": true
   },
   "outputs": [],
   "source": [
    "# Get unique values from both columns\n",
    "unique_values = pd.Index(df['property-baths'].dropna().unique()).union(df['Bath'].dropna().unique())\n",
    "\n",
    "# Create a DataFrame with unique values as index\n",
    "counts_df = pd.DataFrame(index=unique_values, columns=['property-baths', 'Bath'])\n",
    "\n",
    "# Count occurrences and fill the DataFrame\n",
    "counts_df['property-baths'] = df['property-baths'].value_counts().reindex(unique_values, fill_value=0)\n",
    "counts_df['Bath'] = df['Bath'].value_counts().reindex(unique_values, fill_value=0)\n",
    "\n",
    "print(counts_df)"
   ]
  },
  {
   "cell_type": "code",
   "execution_count": null,
   "metadata": {
    "execution": {
     "iopub.execute_input": "2025-02-22T06:43:23.049052Z",
     "iopub.status.busy": "2025-02-22T06:43:23.048635Z",
     "iopub.status.idle": "2025-02-22T06:43:23.066849Z",
     "shell.execute_reply": "2025-02-22T06:43:23.065803Z",
     "shell.execute_reply.started": "2025-02-22T06:43:23.049014Z"
    },
    "scrolled": true,
    "trusted": true
   },
   "outputs": [],
   "source": [
    "pd.set_option('display.max_colwidth', None)\n",
    "\n",
    "df[df['property-baths'] == 42.0][['property-baths', 'Bath', 'description', 'price']]"
   ]
  },
  {
   "cell_type": "code",
   "execution_count": null,
   "metadata": {
    "execution": {
     "iopub.execute_input": "2025-02-22T06:43:23.068842Z",
     "iopub.status.busy": "2025-02-22T06:43:23.068087Z",
     "iopub.status.idle": "2025-02-22T06:43:23.09724Z",
     "shell.execute_reply": "2025-02-22T06:43:23.096349Z",
     "shell.execute_reply.started": "2025-02-22T06:43:23.068797Z"
    },
    "trusted": true
   },
   "outputs": [],
   "source": [
    "df[df['property-baths'] == 803][['property-baths', 'Bath', 'description', 'price']]"
   ]
  },
  {
   "cell_type": "code",
   "execution_count": null,
   "metadata": {
    "execution": {
     "iopub.execute_input": "2025-02-22T06:43:23.098504Z",
     "iopub.status.busy": "2025-02-22T06:43:23.098125Z",
     "iopub.status.idle": "2025-02-22T06:43:23.123978Z",
     "shell.execute_reply": "2025-02-22T06:43:23.122801Z",
     "shell.execute_reply.started": "2025-02-22T06:43:23.098478Z"
    },
    "trusted": true
   },
   "outputs": [],
   "source": [
    "df.loc[df['property-baths'] == 803, 'property-baths'] = 1"
   ]
  },
  {
   "cell_type": "code",
   "execution_count": null,
   "metadata": {
    "execution": {
     "iopub.execute_input": "2025-02-22T06:43:23.125555Z",
     "iopub.status.busy": "2025-02-22T06:43:23.125141Z",
     "iopub.status.idle": "2025-02-22T06:43:23.161648Z",
     "shell.execute_reply": "2025-02-22T06:43:23.160456Z",
     "shell.execute_reply.started": "2025-02-22T06:43:23.12551Z"
    },
    "trusted": true
   },
   "outputs": [],
   "source": [
    "df[['property-baths']].value_counts()"
   ]
  },
  {
   "cell_type": "markdown",
   "metadata": {},
   "source": [
    "# Features"
   ]
  },
  {
   "cell_type": "code",
   "execution_count": null,
   "metadata": {
    "execution": {
     "iopub.execute_input": "2025-02-22T06:43:23.163002Z",
     "iopub.status.busy": "2025-02-22T06:43:23.162733Z",
     "iopub.status.idle": "2025-02-22T06:43:23.170726Z",
     "shell.execute_reply": "2025-02-22T06:43:23.169465Z",
     "shell.execute_reply.started": "2025-02-22T06:43:23.162979Z"
    },
    "trusted": true
   },
   "outputs": [],
   "source": [
    "df.Features.head()"
   ]
  },
  {
   "cell_type": "markdown",
   "metadata": {},
   "source": [
    "The column 'Features' contains detailed information about a house, including parking, garage, pool, heating, garden, and other. Some rows may have multiple features listed, while others might only contain a few or even none. Additionally, the 'Garage' column can sometimes be empty, even when garage-related details are present in the 'Features' column. This makes it crucial to extract and analyze all values from 'Features' to ensure no important information is missed."
   ]
  },
  {
   "cell_type": "code",
   "execution_count": null,
   "metadata": {
    "execution": {
     "iopub.execute_input": "2025-02-22T06:43:23.172306Z",
     "iopub.status.busy": "2025-02-22T06:43:23.171849Z",
     "iopub.status.idle": "2025-02-22T06:43:23.195828Z",
     "shell.execute_reply": "2025-02-22T06:43:23.194643Z",
     "shell.execute_reply.started": "2025-02-22T06:43:23.172266Z"
    },
    "trusted": true
   },
   "outputs": [],
   "source": [
    "df['Features'].unique().shape"
   ]
  },
  {
   "cell_type": "markdown",
   "metadata": {},
   "source": [
    "We have 5,338 different values in the 'Feature' column. The problem is that each cell can contain a list of information, with potential relationships between features in the dataset. We can define some keywords for each feature, extract relevant values, and fill in the gaps."
   ]
  },
  {
   "cell_type": "code",
   "execution_count": null,
   "metadata": {
    "execution": {
     "iopub.execute_input": "2025-02-22T06:43:23.197459Z",
     "iopub.status.busy": "2025-02-22T06:43:23.197111Z",
     "iopub.status.idle": "2025-02-22T06:43:23.216581Z",
     "shell.execute_reply": "2025-02-22T06:43:23.215531Z",
     "shell.execute_reply.started": "2025-02-22T06:43:23.197421Z"
    },
    "jp-MarkdownHeadingCollapsed": true,
    "trusted": true
   },
   "outputs": [],
   "source": [
    "##### Extract unique features\n",
    "def get_unique_values(column):\n",
    "    \n",
    "    unique_features = set()\n",
    "    \n",
    "    for features in df[column].dropna():\n",
    "        # Remove brackets and extra quotes\n",
    "        cleaned_features = features.replace(\"[\", \"\").replace(\"]\", \"\").replace('\"', '').replace(\"'\", \"\")\n",
    "        # Split by comma\n",
    "        feature_list = [f.strip() for f in cleaned_features.split(\",\")]\n",
    "        unique_features.update(feature_list)\n",
    "\n",
    "    return unique_features"
   ]
  },
  {
   "cell_type": "code",
   "execution_count": null,
   "metadata": {
    "execution": {
     "iopub.execute_input": "2025-02-22T06:43:23.218396Z",
     "iopub.status.busy": "2025-02-22T06:43:23.21797Z",
     "iopub.status.idle": "2025-02-22T06:43:23.351933Z",
     "shell.execute_reply": "2025-02-22T06:43:23.350595Z",
     "shell.execute_reply.started": "2025-02-22T06:43:23.218363Z"
    },
    "trusted": true
   },
   "outputs": [],
   "source": [
    "unique_features = get_unique_values('Features')\n",
    "print(len(unique_features), unique_features)"
   ]
  },
  {
   "cell_type": "markdown",
   "metadata": {},
   "source": [
    "Now we got 268 different unique values. Let's fill the gap in Garage column"
   ]
  },
  {
   "cell_type": "markdown",
   "metadata": {},
   "source": [
    "## Garage"
   ]
  },
  {
   "cell_type": "code",
   "execution_count": null,
   "metadata": {
    "execution": {
     "iopub.execute_input": "2025-02-22T06:43:23.353486Z",
     "iopub.status.busy": "2025-02-22T06:43:23.353088Z",
     "iopub.status.idle": "2025-02-22T06:43:23.365049Z",
     "shell.execute_reply": "2025-02-22T06:43:23.363983Z",
     "shell.execute_reply.started": "2025-02-22T06:43:23.353447Z"
    },
    "trusted": true
   },
   "outputs": [],
   "source": [
    "df.Garage.value_counts()"
   ]
  },
  {
   "cell_type": "markdown",
   "metadata": {},
   "source": [
    "Column 'Garage' contains only 'Yes' or 'No' values. The information about type of garage, how namy of them in the house could contain columns 'Feature' or 'Parking'. Let's combine them."
   ]
  },
  {
   "cell_type": "code",
   "execution_count": null,
   "metadata": {
    "execution": {
     "iopub.execute_input": "2025-02-22T06:43:23.366208Z",
     "iopub.status.busy": "2025-02-22T06:43:23.365935Z",
     "iopub.status.idle": "2025-02-22T06:43:23.488257Z",
     "shell.execute_reply": "2025-02-22T06:43:23.487171Z",
     "shell.execute_reply.started": "2025-02-22T06:43:23.366175Z"
    },
    "trusted": true
   },
   "outputs": [],
   "source": [
    "unique_parking_features = get_unique_values('Parking') | unique_features\n",
    "print(len(unique_parking_features), unique_parking_features)"
   ]
  },
  {
   "cell_type": "markdown",
   "metadata": {},
   "source": [
    "Let's select from this list only garage related terminology:"
   ]
  },
  {
   "cell_type": "code",
   "execution_count": null,
   "metadata": {
    "execution": {
     "iopub.execute_input": "2025-02-22T06:43:23.489896Z",
     "iopub.status.busy": "2025-02-22T06:43:23.489524Z",
     "iopub.status.idle": "2025-02-22T06:43:23.497857Z",
     "shell.execute_reply": "2025-02-22T06:43:23.496382Z",
     "shell.execute_reply.started": "2025-02-22T06:43:23.489859Z"
    },
    "trusted": true
   },
   "outputs": [],
   "source": [
    "garage_keywords = {\"garage\", \"carport\", \"grge\", \"attached\", \"detached\", \"tandem\", \"car\"}\n",
    "\n",
    "# The selected keywords cover different terms related to garages and carports:\n",
    "\n",
    "#     \"garage\" → Captures any mention of a garage.\n",
    "#     \"carport\" → Includes carports, which serve a similar function.\n",
    "#     \"grge\" → A common abbreviation for \"garage\" (e.g., \"DetachedGrge/Carport\").\n",
    "#     \"attached\" → Covers garages that are attached to the house.\n",
    "#     \"detached\" → Covers garages that are separate from the house.\n",
    "#     \"tandem\" → Represents tandem garages, where cars are parked one behind the other.\n",
    "#     \"car\" → Captures features mentioning a car (e.g., \"2 Car Attached\", \"3 Car Detached\").\n",
    "\n",
    "garage_list = []\n",
    "\n",
    "\n",
    "for item in unique_parking_features:\n",
    "    lower_item = item.lower()\n",
    "    if any(keyword in lower_item for keyword in garage_keywords):\n",
    "        garage_list.append(item.lower())\n",
    "\n",
    "garage_list.remove('no garage')\n",
    "\n",
    "print(\"Garage-related items:\", garage_list)"
   ]
  },
  {
   "cell_type": "code",
   "execution_count": null,
   "metadata": {
    "execution": {
     "iopub.execute_input": "2025-02-22T06:43:23.499517Z",
     "iopub.status.busy": "2025-02-22T06:43:23.499097Z",
     "iopub.status.idle": "2025-02-22T06:43:23.523479Z",
     "shell.execute_reply": "2025-02-22T06:43:23.522317Z",
     "shell.execute_reply.started": "2025-02-22T06:43:23.499479Z"
    },
    "trusted": true
   },
   "outputs": [],
   "source": [
    "def check_keywords(features, keywords):\n",
    "\n",
    "    try:\n",
    "        cleaned_features = features.replace(\"[\", \"\").replace(\"]\", \"\").replace('\"', '').replace(\"'\", \"\").replace(\";\", \",\")\n",
    "        list_to_check = [f.strip().lower() for f in cleaned_features.split(',')]\n",
    "        common = set(list_to_check) & set(keywords)\n",
    "        \n",
    "        if common: \n",
    "            return 'Yes'  \n",
    "            \n",
    "    except AttributeError:\n",
    "        return 'No'\n",
    "    \n",
    "    return 'No'"
   ]
  },
  {
   "cell_type": "markdown",
   "metadata": {},
   "source": [
    "The function 'check_keywords' will check if column 'Features' and 'Parking' contain at least one pfrase from the list 'garage_list'. In this case, the nan value in column 'Garage' will be changes to \"Yes\"."
   ]
  },
  {
   "cell_type": "code",
   "execution_count": null,
   "metadata": {
    "execution": {
     "iopub.execute_input": "2025-02-22T06:43:23.531008Z",
     "iopub.status.busy": "2025-02-22T06:43:23.530624Z",
     "iopub.status.idle": "2025-02-22T06:43:23.800735Z",
     "shell.execute_reply": "2025-02-22T06:43:23.79956Z",
     "shell.execute_reply.started": "2025-02-22T06:43:23.530969Z"
    },
    "scrolled": true,
    "trusted": true
   },
   "outputs": [],
   "source": [
    "df['Garage new'] = df['Garage']\n",
    "df.loc[df.Garage.isna(), 'Garage new'] = df.loc[df.Garage.isna(), 'Features'].apply(lambda x: check_keywords(x, garage_list))\n",
    "df['Garage new'].value_counts()"
   ]
  },
  {
   "cell_type": "markdown",
   "metadata": {},
   "source": [
    "Some rows can have information about garage in Parking column"
   ]
  },
  {
   "cell_type": "code",
   "execution_count": null,
   "metadata": {
    "execution": {
     "iopub.execute_input": "2025-02-22T06:43:23.804055Z",
     "iopub.status.busy": "2025-02-22T06:43:23.803749Z",
     "iopub.status.idle": "2025-02-22T06:43:23.8153Z",
     "shell.execute_reply": "2025-02-22T06:43:23.814333Z",
     "shell.execute_reply.started": "2025-02-22T06:43:23.804033Z"
    },
    "trusted": true
   },
   "outputs": [],
   "source": [
    "df.Parking.unique()"
   ]
  },
  {
   "cell_type": "code",
   "execution_count": null,
   "metadata": {
    "execution": {
     "iopub.execute_input": "2025-02-22T06:43:23.816845Z",
     "iopub.status.busy": "2025-02-22T06:43:23.816464Z",
     "iopub.status.idle": "2025-02-22T06:43:23.849968Z",
     "shell.execute_reply": "2025-02-22T06:43:23.848875Z",
     "shell.execute_reply.started": "2025-02-22T06:43:23.816799Z"
    },
    "trusted": true
   },
   "outputs": [],
   "source": [
    "df.loc[df.Garage == 'No', 'Garage new'] = df.loc[df.Garage == 'No', 'Parking'].apply(lambda x: check_keywords(x, garage_list))\n",
    "df['Garage new'].value_counts()"
   ]
  },
  {
   "cell_type": "markdown",
   "metadata": {},
   "source": [
    "The number of not-null values does not changed. So all possible values were filled from 'Features' column."
   ]
  },
  {
   "cell_type": "markdown",
   "metadata": {},
   "source": [
    "## Let's do the same for column 'Parking'"
   ]
  },
  {
   "cell_type": "code",
   "execution_count": null,
   "metadata": {
    "execution": {
     "iopub.execute_input": "2025-02-22T06:43:23.851572Z",
     "iopub.status.busy": "2025-02-22T06:43:23.851193Z",
     "iopub.status.idle": "2025-02-22T06:43:23.880169Z",
     "shell.execute_reply": "2025-02-22T06:43:23.878988Z",
     "shell.execute_reply.started": "2025-02-22T06:43:23.851544Z"
    },
    "trusted": true
   },
   "outputs": [],
   "source": [
    "df.Parking.value_counts()"
   ]
  },
  {
   "cell_type": "code",
   "execution_count": null,
   "metadata": {
    "execution": {
     "iopub.execute_input": "2025-02-22T06:43:23.88181Z",
     "iopub.status.busy": "2025-02-22T06:43:23.881316Z",
     "iopub.status.idle": "2025-02-22T06:43:23.903736Z",
     "shell.execute_reply": "2025-02-22T06:43:23.902333Z",
     "shell.execute_reply.started": "2025-02-22T06:43:23.881779Z"
    },
    "trusted": true
   },
   "outputs": [],
   "source": [
    "parking_list = [\"2 Outdoor Stalls\", \"Add. Parking Avail.\", \"Additional Parking\", \"Assigned\",\n",
    "                \"Carport\", \"Carport & Garage\", \"Carport Double\", \"Carport Quad+\", \"Carport Triple\", \n",
    "                \"Carport; Multiple\", \"Carport; Single\", \"Multiple Driveways\", \"Parkade\", \"Parking Lot\", \n",
    "                \"Parking Pad\", \"Parking Pad Cement/Paved\", \"Parking Space(s)\", \"Parking Spaces\", \n",
    "                \"RV\", \"RV Access/Parking\", \"RV Gated\", \"RV Hookup\", \"RV Parking\", \"RV Parking Avail.\", \n",
    "                \"Shared Driveway\", \"Stall\", \"Tandem Parking\", \"Underground\", \"Underground Parking\", \n",
    "                \"Visitor Parking\"\n",
    "                ]\n",
    "\n",
    "parking_list = [f.lower() for f in parking_list]"
   ]
  },
  {
   "cell_type": "markdown",
   "metadata": {},
   "source": [
    "We'll replace values in a Parking column to 'Yes' and \"No'"
   ]
  },
  {
   "cell_type": "code",
   "execution_count": null,
   "metadata": {
    "execution": {
     "iopub.execute_input": "2025-02-22T06:43:23.9054Z",
     "iopub.status.busy": "2025-02-22T06:43:23.905067Z",
     "iopub.status.idle": "2025-02-22T06:43:24.340785Z",
     "shell.execute_reply": "2025-02-22T06:43:24.339262Z",
     "shell.execute_reply.started": "2025-02-22T06:43:23.905372Z"
    },
    "scrolled": true,
    "trusted": true
   },
   "outputs": [],
   "source": [
    "# first, copy the column\n",
    "df['Parking new'] = df['Parking']\n",
    "\n",
    "# if the column 'Parking' has one of the words from the parking_list, it will be replaced to 'Yes'\n",
    "df['Parking new'] = df['Parking new'].apply(lambda x: check_keywords(x, parking_list))\n",
    "\n",
    "# if the column 'Features' has one of the words from the parking_list, it will be replaced to 'Yes' in column 'Parking'\n",
    "df.loc[df['Parking new'] == 'No', 'Parking new'] = df.loc[df['Parking new']  == 'No', 'Features'].apply(lambda x: check_keywords(x, parking_list))\n",
    "\n",
    "df['Parking new'].value_counts()"
   ]
  },
  {
   "cell_type": "markdown",
   "metadata": {},
   "source": [
    "## Basement"
   ]
  },
  {
   "cell_type": "code",
   "execution_count": null,
   "metadata": {
    "execution": {
     "iopub.execute_input": "2025-02-22T06:43:24.342764Z",
     "iopub.status.busy": "2025-02-22T06:43:24.342365Z",
     "iopub.status.idle": "2025-02-22T06:43:24.357917Z",
     "shell.execute_reply": "2025-02-22T06:43:24.356854Z",
     "shell.execute_reply.started": "2025-02-22T06:43:24.342734Z"
    },
    "trusted": true
   },
   "outputs": [],
   "source": [
    "df.Basement.value_counts()"
   ]
  },
  {
   "cell_type": "markdown",
   "metadata": {},
   "source": [
    "Let's extract unique features and select related to 'Basement' values"
   ]
  },
  {
   "cell_type": "code",
   "execution_count": null,
   "metadata": {
    "execution": {
     "iopub.execute_input": "2025-02-22T06:43:24.359651Z",
     "iopub.status.busy": "2025-02-22T06:43:24.359206Z",
     "iopub.status.idle": "2025-02-22T06:43:24.440571Z",
     "shell.execute_reply": "2025-02-22T06:43:24.439357Z",
     "shell.execute_reply.started": "2025-02-22T06:43:24.359605Z"
    },
    "trusted": true
   },
   "outputs": [],
   "source": [
    "unique_basement_features = get_unique_values('Basement')\n",
    "print(len(unique_basement_features), unique_basement_features)"
   ]
  },
  {
   "cell_type": "markdown",
   "metadata": {},
   "source": [
    "#### Finished (These basements or spaces are completed or usable, often with features like exterior access or fully finished rooms.)\n",
    "- \"Full Basement\": A basement that spans the entire footprint of the house and is fully developed for use.\n",
    "- \"Full\": Another way to refer to a completely finished basement.\n",
    "- \"Dugout\": A basement or below-ground space that has been excavated (dug out) to provide additional space.\n",
    "- \"Fully Finished\": A basement that is 100% completed with flooring, walls, ceiling, and sometimes utilities.\n",
    "- \"Finished\": A general term for a basement that is move-in ready.\n",
    "- \"Remodeled Basement\": A basement that was previously unfinished or outdated but has been renovated.\n",
    "- \"Apartment in Basement\": A basement that has been converted into a separate living unit with amenities like a kitchen and bathroom.\n",
    "- \"Suite\": A finished basement space designed as a separate living area, often with its own entrance.\n",
    "- \"Walk-Out Access\": A basement with a door leading directly outside, typically to ground level.\n",
    "- \"Walk-Out To Grade\": Similar to \"Walk-Out Access,\" meaning the basement exits directly to ground level.\n",
    "- \"Walk-Up To Grade\": A basement that has a stairway leading up to ground level for external access.\n",
    "- \"Walk-Out / Walkout\": Another way to describe a basement that has an external door leading outside.\n",
    "- \"Walk-Up\": A basement with stairs leading to an outside entrance.\n",
    "- \"With Windows\": A basement that has windows, often allowing natural light and making it more livable.\n",
    "- \"Separate/Exterior Entry\": A basement that has a private entrance from outside, making it ideal for rental units or guest spaces.\n",
    "- \"Separate Entrance\": Similar to \"Separate/Exterior Entry,\" meaning the basement has independent access from outside.\n",
    "\n",
    "#### Partial (These basements or spaces are partially finished or incomplete.)\n",
    "- \"Partially Finished\" / \"Partially finished\": Some areas are finished, but others may be unfinished or under construction.\n",
    "- \"Partial\" / \"Partial Basement\": The basement is smaller than the home's full footprint or has limited finished space.\n",
    "- \"Not Full Height\": A basement that does not have standard ceiling height, making it less functional as a full living space.\n",
    "- \"Cellar\": An older term, often referring to basements used for storage, with lower ceilings and minimal finishing.\n",
    "\n",
    "#### No Basement (These properties either don't have basements or have limited, unusable spaces underneath.)\n",
    "- \"Unfinished\": A basement that exists but has no completed flooring, walls, or ceiling.\n",
    "- \"No Basement\": The property does not include a basement.\n",
    "- \"Slab\": The house is built directly on a concrete slab, with no basement underneath.\n",
    "- \"Crawl Space\" / \"Crawl\": A shallow space under the house, not intended for living but used for ventilation or storage.\n",
    "- \"None\": No basement or similar structure exists in the property.\n",
    "- \"N/A\": Not available or not provided.\n",
    "- \"Not Applicable\": The basement condition does not apply, possibly because there is no basement or it's an irrelevant listing."
   ]
  },
  {
   "cell_type": "code",
   "execution_count": null,
   "metadata": {
    "execution": {
     "iopub.execute_input": "2025-02-22T06:43:24.442147Z",
     "iopub.status.busy": "2025-02-22T06:43:24.44177Z",
     "iopub.status.idle": "2025-02-22T06:43:24.447421Z",
     "shell.execute_reply": "2025-02-22T06:43:24.446324Z",
     "shell.execute_reply.started": "2025-02-22T06:43:24.442107Z"
    },
    "trusted": true
   },
   "outputs": [],
   "source": [
    "basement_types = {'Finished': ['full basement', 'full', 'dugout', 'fully finished', 'finished', 'remodeled basement', \n",
    "                               'apartment in basement', 'suite', 'walk-out access', 'walk-out to grade', 'walk-up to grade', \n",
    "                               'walk-out', 'walkout', 'walk-up', 'with windows', 'separate/exterior entry', 'separate entrance'], \n",
    "                  'Partial': ['partially finished', 'partial', 'partially finished', 'partial basement', \n",
    "                              'not full height', 'cellar'], \n",
    "                  'No basement': ['unfinished', 'no basement', 'slab', 'crawl space', 'crawl', 'none', \n",
    "                                  'not applicable', 'n/a']}"
   ]
  },
  {
   "cell_type": "code",
   "execution_count": null,
   "metadata": {
    "execution": {
     "iopub.execute_input": "2025-02-22T06:43:24.448834Z",
     "iopub.status.busy": "2025-02-22T06:43:24.448531Z",
     "iopub.status.idle": "2025-02-22T06:43:24.473133Z",
     "shell.execute_reply": "2025-02-22T06:43:24.471941Z",
     "shell.execute_reply.started": "2025-02-22T06:43:24.448806Z"
    },
    "trusted": true
   },
   "outputs": [],
   "source": [
    "def check_type(features, types):\n",
    "\n",
    "    try:\n",
    "        cleaned_features = features.replace(\"[\", \"\").replace(\"]\", \"\").replace('\"', '').replace(\"'\", \"\").replace(\";\", \",\")\n",
    "        list_to_check = [f.strip().lower() for f in cleaned_features.split(',')]\n",
    "\n",
    "        for basement_type, basement_type_list in types.items():\n",
    "            if set(list_to_check) & set(basement_type_list): \n",
    "                return basement_type\n",
    "        return np.nan\n",
    "\n",
    "    except AttributeError:\n",
    "        return np.nan"
   ]
  },
  {
   "cell_type": "code",
   "execution_count": null,
   "metadata": {
    "execution": {
     "iopub.execute_input": "2025-02-22T06:43:24.47473Z",
     "iopub.status.busy": "2025-02-22T06:43:24.474322Z",
     "iopub.status.idle": "2025-02-22T06:43:24.660039Z",
     "shell.execute_reply": "2025-02-22T06:43:24.65901Z",
     "shell.execute_reply.started": "2025-02-22T06:43:24.474691Z"
    },
    "trusted": true
   },
   "outputs": [],
   "source": [
    "df['Basement new'] = df['Basement']\n",
    "df['Basement new'] = df['Basement new'].apply(lambda x: check_type(x, basement_types))\n",
    "df['Basement new'].value_counts()"
   ]
  },
  {
   "cell_type": "markdown",
   "metadata": {},
   "source": [
    "## Exterior"
   ]
  },
  {
   "cell_type": "code",
   "execution_count": null,
   "metadata": {
    "execution": {
     "iopub.execute_input": "2025-02-22T06:43:24.661454Z",
     "iopub.status.busy": "2025-02-22T06:43:24.661022Z",
     "iopub.status.idle": "2025-02-22T06:43:24.679037Z",
     "shell.execute_reply": "2025-02-22T06:43:24.677926Z",
     "shell.execute_reply.started": "2025-02-22T06:43:24.661417Z"
    },
    "trusted": true
   },
   "outputs": [],
   "source": [
    "df.Exterior.value_counts().head()"
   ]
  },
  {
   "cell_type": "code",
   "execution_count": null,
   "metadata": {
    "execution": {
     "iopub.execute_input": "2025-02-22T06:43:24.680461Z",
     "iopub.status.busy": "2025-02-22T06:43:24.680072Z",
     "iopub.status.idle": "2025-02-22T06:43:24.788611Z",
     "shell.execute_reply": "2025-02-22T06:43:24.787542Z",
     "shell.execute_reply.started": "2025-02-22T06:43:24.680421Z"
    },
    "trusted": true
   },
   "outputs": [],
   "source": [
    "unique_exterior_features = get_unique_values('Exterior')   \n",
    "print(len(unique_exterior_features), unique_exterior_features)"
   ]
  },
  {
   "cell_type": "code",
   "execution_count": null,
   "metadata": {
    "execution": {
     "iopub.execute_input": "2025-02-22T06:43:24.790013Z",
     "iopub.status.busy": "2025-02-22T06:43:24.789688Z",
     "iopub.status.idle": "2025-02-22T06:43:24.79521Z",
     "shell.execute_reply": "2025-02-22T06:43:24.794145Z",
     "shell.execute_reply.started": "2025-02-22T06:43:24.789985Z"
    },
    "trusted": true
   },
   "outputs": [],
   "source": [
    "exterior_materials = {\n",
    "    'Metal': ['aluminum', 'aluminum siding', 'aluminum/vinyl', 'colour loc', 'metal', 'steel'],\n",
    "    'Brick': ['brick', 'brick facing', 'brick imitation', 'brick veneer'],\n",
    "    'Concrete': ['concrete', 'concrete siding', 'concrete/stucco', 'concrete block', 'insul brick', 'stucco'],\n",
    "    'Wood': ['cedar', 'cedar shingles', 'cedar siding', 'wood', 'wood siding', 'wood shingles', 'wood shingles', 'wood siding'],\n",
    "    'Composite': ['composite siding', 'hardboard', 'masonite', 'shingles'],\n",
    "    'Vinyl': ['vinyl', 'vinyl siding', 'asbestos', 'siding']\n",
    "}"
   ]
  },
  {
   "cell_type": "code",
   "execution_count": null,
   "metadata": {
    "execution": {
     "iopub.execute_input": "2025-02-22T06:43:24.796565Z",
     "iopub.status.busy": "2025-02-22T06:43:24.796142Z",
     "iopub.status.idle": "2025-02-22T06:43:25.115802Z",
     "shell.execute_reply": "2025-02-22T06:43:25.114691Z",
     "shell.execute_reply.started": "2025-02-22T06:43:24.796525Z"
    },
    "trusted": true
   },
   "outputs": [],
   "source": [
    "df['Exterior new'] = df['Exterior']\n",
    "df['Exterior new'] = df['Exterior new'].apply(lambda x: check_type(x, exterior_materials))\n",
    "df['Exterior new'].value_counts()"
   ]
  },
  {
   "cell_type": "markdown",
   "metadata": {},
   "source": [
    "## Fireplace"
   ]
  },
  {
   "cell_type": "code",
   "execution_count": null,
   "metadata": {
    "execution": {
     "iopub.execute_input": "2025-02-22T06:43:25.117265Z",
     "iopub.status.busy": "2025-02-22T06:43:25.116905Z",
     "iopub.status.idle": "2025-02-22T06:43:25.133527Z",
     "shell.execute_reply": "2025-02-22T06:43:25.132394Z",
     "shell.execute_reply.started": "2025-02-22T06:43:25.117204Z"
    },
    "trusted": true
   },
   "outputs": [],
   "source": [
    "print(df.Fireplace.shape[0]) \n",
    "df.Fireplace.value_counts()[:10]"
   ]
  },
  {
   "cell_type": "markdown",
   "metadata": {},
   "source": [
    "Column 'Fireplace' contain information in different appearence. Let's reduce it ot 'Yes' and 'No'. Also we need to get information from the column 'Fireplace Features'."
   ]
  },
  {
   "cell_type": "code",
   "execution_count": null,
   "metadata": {
    "execution": {
     "iopub.execute_input": "2025-02-22T06:43:25.13496Z",
     "iopub.status.busy": "2025-02-22T06:43:25.134618Z",
     "iopub.status.idle": "2025-02-22T06:43:25.173853Z",
     "shell.execute_reply": "2025-02-22T06:43:25.172653Z",
     "shell.execute_reply.started": "2025-02-22T06:43:25.134933Z"
    },
    "trusted": true
   },
   "outputs": [],
   "source": [
    "df['Fireplace new'] = df['Fireplace']\n",
    "\n",
    "df.loc[df['Fireplace new'].isin(['0', '[]','[\"0\"]']), 'Fireplace new'] = np.nan\n",
    "df.loc[df['Fireplace new'].notna(), 'Fireplace new'] = 'Yes'\n",
    "df.loc[~df['Fireplace new'].notna(), 'Fireplace new'] = 'No'\n"
   ]
  },
  {
   "cell_type": "code",
   "execution_count": null,
   "metadata": {
    "execution": {
     "iopub.execute_input": "2025-02-22T06:43:25.175595Z",
     "iopub.status.busy": "2025-02-22T06:43:25.175173Z",
     "iopub.status.idle": "2025-02-22T06:43:25.189666Z",
     "shell.execute_reply": "2025-02-22T06:43:25.188347Z",
     "shell.execute_reply.started": "2025-02-22T06:43:25.175555Z"
    },
    "trusted": true
   },
   "outputs": [],
   "source": [
    "df['Fireplace new'].value_counts()"
   ]
  },
  {
   "cell_type": "markdown",
   "metadata": {},
   "source": [
    "# Heating"
   ]
  },
  {
   "cell_type": "code",
   "execution_count": null,
   "metadata": {
    "execution": {
     "iopub.execute_input": "2025-02-22T06:43:25.191473Z",
     "iopub.status.busy": "2025-02-22T06:43:25.19104Z",
     "iopub.status.idle": "2025-02-22T06:43:25.214505Z",
     "shell.execute_reply": "2025-02-22T06:43:25.213452Z",
     "shell.execute_reply.started": "2025-02-22T06:43:25.191433Z"
    },
    "trusted": true
   },
   "outputs": [],
   "source": [
    "df.Heating.unique().shape"
   ]
  },
  {
   "cell_type": "code",
   "execution_count": null,
   "metadata": {
    "execution": {
     "iopub.execute_input": "2025-02-22T06:43:25.215938Z",
     "iopub.status.busy": "2025-02-22T06:43:25.215613Z",
     "iopub.status.idle": "2025-02-22T06:43:25.34468Z",
     "shell.execute_reply": "2025-02-22T06:43:25.34363Z",
     "shell.execute_reply.started": "2025-02-22T06:43:25.215913Z"
    },
    "trusted": true
   },
   "outputs": [],
   "source": [
    "unique_heating_features = get_unique_values('Heating')\n",
    "print(len(unique_heating_features), unique_heating_features)"
   ]
  },
  {
   "cell_type": "markdown",
   "metadata": {},
   "source": [
    "Let's divide them in categories:"
   ]
  },
  {
   "cell_type": "code",
   "execution_count": null,
   "metadata": {
    "execution": {
     "iopub.execute_input": "2025-02-22T06:43:25.345894Z",
     "iopub.status.busy": "2025-02-22T06:43:25.345603Z",
     "iopub.status.idle": "2025-02-22T06:43:25.351617Z",
     "shell.execute_reply": "2025-02-22T06:43:25.350398Z",
     "shell.execute_reply.started": "2025-02-22T06:43:25.34587Z"
    },
    "trusted": true
   },
   "outputs": [],
   "source": [
    "heating_categories = {\n",
    "    'forced air': ['forced air', 'forced air-1', 'forced air-2', 'furnace'],\n",
    "    'boiler': ['boiler', 'hot water', 'hot water radiator heat', 'steam', 'steam radiator'],\n",
    "    'heat pump': ['central heat pump', 'heat pump', 'wall mounted heat pump'],\n",
    "    'radiant': ['radiant', 'radiant heat', 'radiant ceiling', 'radiant floor', \n",
    "                'radiant/infra-red heat', 'baseboard', 'baseboard heaters', 'electric baseboard units'],\n",
    "    'fireplace': ['fireplace(s)', 'fireplace insert', 'wood stove', 'pellet stove', 'coal stove', 'stove'],\n",
    "    'space heat': ['space heater', 'space heaters', 'wall furnace', 'floor furnace', \n",
    "                   'floor model furnace', 'overhead heaters', 'overhead unit heater', 'ductless'],\n",
    "    'alt heat': ['geo thermal', 'geothermal', 'solar', 'gravity', 'gravity heat system', \n",
    "                 'oil', 'propane', 'propane gas', 'coal'],\n",
    "    'no heat': ['no heat', 'none'],  # only contains no heat options\n",
    "    'other': ['mixed', 'combination', 'sep. hvac units'],  # these suggest non-specific or mixed systems\n",
    "}"
   ]
  },
  {
   "cell_type": "code",
   "execution_count": null,
   "metadata": {
    "execution": {
     "iopub.execute_input": "2025-02-22T06:43:25.353459Z",
     "iopub.status.busy": "2025-02-22T06:43:25.353032Z",
     "iopub.status.idle": "2025-02-22T06:43:25.630554Z",
     "shell.execute_reply": "2025-02-22T06:43:25.629471Z",
     "shell.execute_reply.started": "2025-02-22T06:43:25.353418Z"
    },
    "trusted": true
   },
   "outputs": [],
   "source": [
    "df['Heating new'] = df['Heating']\n",
    "df['Heating new'] = df['Heating new'].apply(lambda x: check_type(x, heating_categories))\n",
    "\n",
    "df['Heating new'] .value_counts()"
   ]
  },
  {
   "cell_type": "markdown",
   "metadata": {},
   "source": [
    "# Flooring"
   ]
  },
  {
   "cell_type": "code",
   "execution_count": null,
   "metadata": {
    "execution": {
     "iopub.execute_input": "2025-02-22T06:43:25.631974Z",
     "iopub.status.busy": "2025-02-22T06:43:25.631684Z",
     "iopub.status.idle": "2025-02-22T06:43:25.647744Z",
     "shell.execute_reply": "2025-02-22T06:43:25.646333Z",
     "shell.execute_reply.started": "2025-02-22T06:43:25.631948Z"
    },
    "trusted": true
   },
   "outputs": [],
   "source": [
    "df.Flooring.value_counts()"
   ]
  },
  {
   "cell_type": "code",
   "execution_count": null,
   "metadata": {
    "execution": {
     "iopub.execute_input": "2025-02-22T06:43:25.649392Z",
     "iopub.status.busy": "2025-02-22T06:43:25.64898Z",
     "iopub.status.idle": "2025-02-22T06:43:25.731759Z",
     "shell.execute_reply": "2025-02-22T06:43:25.730487Z",
     "shell.execute_reply.started": "2025-02-22T06:43:25.649353Z"
    },
    "trusted": true
   },
   "outputs": [],
   "source": [
    "unique_flooring_features = get_unique_values('Flooring')\n",
    "print(len(unique_flooring_features), unique_flooring_features)"
   ]
  },
  {
   "cell_type": "markdown",
   "metadata": {},
   "source": [
    "Let's divide into next categories:\n",
    "- Carpet: Includes all variations of carpet.\n",
    "- Wood: Includes bamboo, engineered wood, hardwood, etc.\n",
    "- Tile: Covers ceramic, porcelain, slate, and other types of tiles.\n",
    "- Vinyl: Includes all vinyl-based flooring types.\n",
    "- Laminate: Groups laminate and laminate flooring.\n",
    "- Concrete: Includes concrete and concrete slabs.\n",
    "- Other: For flooring types that are not easily categorized (like marble, granite, subfloor, etc.)."
   ]
  },
  {
   "cell_type": "code",
   "execution_count": null,
   "metadata": {
    "execution": {
     "iopub.execute_input": "2025-02-22T06:43:25.733094Z",
     "iopub.status.busy": "2025-02-22T06:43:25.732816Z",
     "iopub.status.idle": "2025-02-22T06:43:25.738437Z",
     "shell.execute_reply": "2025-02-22T06:43:25.737331Z",
     "shell.execute_reply.started": "2025-02-22T06:43:25.733069Z"
    },
    "trusted": true
   },
   "outputs": [],
   "source": [
    "flooring_categories = {\n",
    "    'carpet': ['carpet', 'carpet over softwood', 'carpet over hardwood', 'carpeted', 'wall to wall carpet', \n",
    "               'wall-to-wall carpet'],\n",
    "    'wood': ['bamboo', 'engineered wood', 'engineered hardwood', 'hardwood', 'parquet', 'softwood', 'wood'],\n",
    "    'tile': ['ceramic', 'ceramic tile', 'ceramic/porcelain', 'porcelain tile', 'non-ceramic tile', 'slate', \n",
    "             'stone', 'tile'],\n",
    "    'vinyl': ['cushion/lino/vinyl', 'vinyl', 'vinyl plank'],\n",
    "    'laminate': ['laminate', 'laminate flooring'],\n",
    "    'concrete': ['concrete', 'concrete slab'],\n",
    "    'other': ['basement slab', 'basement sub-floor', 'granite', 'heavy loading', 'linoleum', 'marble', 'mixed', \n",
    "              'mixed flooring', 'see remarks', 'subfloor', 'other']\n",
    "}"
   ]
  },
  {
   "cell_type": "code",
   "execution_count": null,
   "metadata": {
    "execution": {
     "iopub.execute_input": "2025-02-22T06:43:25.739972Z",
     "iopub.status.busy": "2025-02-22T06:43:25.739615Z",
     "iopub.status.idle": "2025-02-22T06:43:25.995968Z",
     "shell.execute_reply": "2025-02-22T06:43:25.994834Z",
     "shell.execute_reply.started": "2025-02-22T06:43:25.739937Z"
    },
    "trusted": true
   },
   "outputs": [],
   "source": [
    "df['Flooring new'] = df['Flooring']\n",
    "df['Flooring new'] = df['Flooring new'].apply(lambda x: check_type(x, flooring_categories))\n",
    "\n",
    "df['Flooring new'].value_counts()"
   ]
  },
  {
   "cell_type": "markdown",
   "metadata": {},
   "source": [
    "# Roof"
   ]
  },
  {
   "cell_type": "code",
   "execution_count": null,
   "metadata": {
    "execution": {
     "iopub.execute_input": "2025-02-22T06:43:25.99753Z",
     "iopub.status.busy": "2025-02-22T06:43:25.997135Z",
     "iopub.status.idle": "2025-02-22T06:43:26.012623Z",
     "shell.execute_reply": "2025-02-22T06:43:26.011423Z",
     "shell.execute_reply.started": "2025-02-22T06:43:25.997495Z"
    },
    "trusted": true
   },
   "outputs": [],
   "source": [
    "df.Roof.value_counts()"
   ]
  },
  {
   "cell_type": "code",
   "execution_count": null,
   "metadata": {
    "execution": {
     "iopub.execute_input": "2025-02-22T06:43:26.014276Z",
     "iopub.status.busy": "2025-02-22T06:43:26.013858Z",
     "iopub.status.idle": "2025-02-22T06:43:26.077211Z",
     "shell.execute_reply": "2025-02-22T06:43:26.076136Z",
     "shell.execute_reply.started": "2025-02-22T06:43:26.014217Z"
    },
    "trusted": true
   },
   "outputs": [],
   "source": [
    "unique_roof_features = get_unique_values('Roof')\n",
    "print(len(unique_roof_features), unique_roof_features)"
   ]
  },
  {
   "cell_type": "markdown",
   "metadata": {},
   "source": [
    "Categories:\n",
    "- Asphalt: Includes all types of asphalt and asphalt shingles.\n",
    "- Cedar Shake: Includes cedar shake and shakes.\n",
    "- Clay: For clay tiles.\n",
    "- Concrete: Covers concrete and concrete tiles.\n",
    "- Fiberglass: Includes fiberglass and fiberglass shingles.\n",
    "- Flat: Includes flat roofing, EPDM, membrane, and flat torch membrane types.\n",
    "- Metal: Covers metal, metal shingles, steel, and tin.\n",
    "- Pine Shake: Includes pine shake and shakes.\n",
    "- Rubber: For rubber roofing.\n",
    "- SBS: For SBS roofing system.\n",
    "- Shake: Covers shake roofing.\n",
    "- Shingle: Includes regular shingles and vinyl shingles.\n",
    "- Slate: For slate roofing.\n",
    "- Tar: Includes various types of tar and gravel roofing.\n",
    "- Tile: For tile roofing.\n",
    "- Wood: Covers wood shingles and wood shake.\n",
    "- Other: For unconventional or mixed roofing, or cases where the material is unclear (like 'conventional', 'other', 'mixed')."
   ]
  },
  {
   "cell_type": "code",
   "execution_count": null,
   "metadata": {
    "execution": {
     "iopub.execute_input": "2025-02-22T06:43:26.078515Z",
     "iopub.status.busy": "2025-02-22T06:43:26.078185Z",
     "iopub.status.idle": "2025-02-22T06:43:26.084743Z",
     "shell.execute_reply": "2025-02-22T06:43:26.083528Z",
     "shell.execute_reply.started": "2025-02-22T06:43:26.078487Z"
    },
    "trusted": true
   },
   "outputs": [],
   "source": [
    "roofing_categories = {\n",
    "    'asphalt': ['asphalt', 'asphalt & gravel', 'asphalt rolled', 'asphalt shingle', 'asphalt shingles', 'asphalt torch on', 'asphalt shingle', 'asphalt/gravel'],\n",
    "    'cedar shake': ['cedar shake', 'cedar shakes'],\n",
    "    'clay': ['clay tile'],\n",
    "    'concrete': ['concrete', 'concrete tiles'],\n",
    "    'fiberglass': ['fiberglass', 'fiberglass shingles', 'fibreglass shingle'],\n",
    "    'flat': ['flat', 'flat torch membrane', 'membrane', 'epdm membrane'],\n",
    "    'metal': ['metal', 'metal shingles', 'steel', 'tin'],\n",
    "    'pine shake': ['pine shake', 'pine shakes'],\n",
    "    'rubber': ['rubber'],\n",
    "    'sbs': ['sbs roofing system'],\n",
    "    'shake': ['shake'],\n",
    "    'shingle': ['shingle', 'vinyl shingles'],\n",
    "    'slate': ['slate'],\n",
    "    'tar': ['tar & gravel', 'tar & gravel', 'tar &amp; gravel', 'tar/gravel'],\n",
    "    'tile': ['tile'],\n",
    "    'wood': ['wood', 'wood shingle', 'wood shingles'],\n",
    "    'other': ['conventional', 'mixed', 'other'],\n",
    "}"
   ]
  },
  {
   "cell_type": "code",
   "execution_count": null,
   "metadata": {
    "execution": {
     "iopub.execute_input": "2025-02-22T06:43:26.086465Z",
     "iopub.status.busy": "2025-02-22T06:43:26.086059Z",
     "iopub.status.idle": "2025-02-22T06:43:26.362453Z",
     "shell.execute_reply": "2025-02-22T06:43:26.36158Z",
     "shell.execute_reply.started": "2025-02-22T06:43:26.086425Z"
    },
    "trusted": true
   },
   "outputs": [],
   "source": [
    "df['Roof new'] = df['Roof']\n",
    "df['Roof new'] = df['Roof new'].apply(lambda x: check_type(x, roofing_categories))\n",
    "df['Roof new'].value_counts()"
   ]
  },
  {
   "cell_type": "markdown",
   "metadata": {},
   "source": [
    "# Property Type"
   ]
  },
  {
   "cell_type": "code",
   "execution_count": null,
   "metadata": {
    "execution": {
     "iopub.execute_input": "2025-02-22T06:43:26.363657Z",
     "iopub.status.busy": "2025-02-22T06:43:26.363367Z",
     "iopub.status.idle": "2025-02-22T06:43:26.378871Z",
     "shell.execute_reply": "2025-02-22T06:43:26.377669Z",
     "shell.execute_reply.started": "2025-02-22T06:43:26.363632Z"
    },
    "trusted": true
   },
   "outputs": [],
   "source": [
    "df['Property Type'].value_counts()"
   ]
  },
  {
   "cell_type": "markdown",
   "metadata": {},
   "source": [
    "# Waterfront"
   ]
  },
  {
   "cell_type": "code",
   "execution_count": null,
   "metadata": {
    "execution": {
     "iopub.execute_input": "2025-02-22T06:43:26.380342Z",
     "iopub.status.busy": "2025-02-22T06:43:26.379997Z",
     "iopub.status.idle": "2025-02-22T06:43:26.405148Z",
     "shell.execute_reply": "2025-02-22T06:43:26.404093Z",
     "shell.execute_reply.started": "2025-02-22T06:43:26.380313Z"
    },
    "trusted": true
   },
   "outputs": [],
   "source": [
    "df.Waterfront.value_counts()"
   ]
  },
  {
   "cell_type": "code",
   "execution_count": null,
   "metadata": {
    "execution": {
     "iopub.execute_input": "2025-02-22T06:43:26.406673Z",
     "iopub.status.busy": "2025-02-22T06:43:26.406294Z",
     "iopub.status.idle": "2025-02-22T06:43:26.437638Z",
     "shell.execute_reply": "2025-02-22T06:43:26.436766Z",
     "shell.execute_reply.started": "2025-02-22T06:43:26.406635Z"
    },
    "trusted": true
   },
   "outputs": [],
   "source": [
    "df['Waterfront new'] = df['Waterfront']\n",
    "df.loc[df['Waterfront new'].isna(), 'Waterfront new'] = 'No'\n",
    "\n",
    "df['Waterfront new'].value_counts()"
   ]
  },
  {
   "cell_type": "markdown",
   "metadata": {},
   "source": [
    "# Subdivision"
   ]
  },
  {
   "cell_type": "code",
   "execution_count": null,
   "metadata": {
    "execution": {
     "iopub.execute_input": "2025-02-22T06:43:26.439155Z",
     "iopub.status.busy": "2025-02-22T06:43:26.438777Z",
     "iopub.status.idle": "2025-02-22T06:43:26.452774Z",
     "shell.execute_reply": "2025-02-22T06:43:26.45147Z",
     "shell.execute_reply.started": "2025-02-22T06:43:26.439119Z"
    },
    "trusted": true
   },
   "outputs": [],
   "source": [
    "df.Subdivision.value_counts()[:30]"
   ]
  },
  {
   "cell_type": "markdown",
   "metadata": {},
   "source": [
    "# Sewer"
   ]
  },
  {
   "cell_type": "code",
   "execution_count": null,
   "metadata": {
    "execution": {
     "iopub.execute_input": "2025-02-22T06:43:26.45434Z",
     "iopub.status.busy": "2025-02-22T06:43:26.453929Z",
     "iopub.status.idle": "2025-02-22T06:43:26.481167Z",
     "shell.execute_reply": "2025-02-22T06:43:26.480121Z",
     "shell.execute_reply.started": "2025-02-22T06:43:26.454304Z"
    },
    "trusted": true
   },
   "outputs": [],
   "source": [
    "df.Sewer.value_counts()"
   ]
  },
  {
   "cell_type": "code",
   "execution_count": null,
   "metadata": {
    "execution": {
     "iopub.execute_input": "2025-02-22T06:43:26.483003Z",
     "iopub.status.busy": "2025-02-22T06:43:26.482588Z",
     "iopub.status.idle": "2025-02-22T06:43:26.555136Z",
     "shell.execute_reply": "2025-02-22T06:43:26.554246Z",
     "shell.execute_reply.started": "2025-02-22T06:43:26.482963Z"
    },
    "trusted": true
   },
   "outputs": [],
   "source": [
    "unique_sewer_features = get_unique_values('Sewer')\n",
    "print(len(unique_sewer_features), unique_sewer_features)"
   ]
  },
  {
   "cell_type": "code",
   "execution_count": null,
   "metadata": {
    "execution": {
     "iopub.execute_input": "2025-02-22T06:43:26.556418Z",
     "iopub.status.busy": "2025-02-22T06:43:26.556153Z",
     "iopub.status.idle": "2025-02-22T06:43:26.562502Z",
     "shell.execute_reply": "2025-02-22T06:43:26.561319Z",
     "shell.execute_reply.started": "2025-02-22T06:43:26.556397Z"
    },
    "trusted": true
   },
   "outputs": [],
   "source": [
    "sewage_categories = {\n",
    "    'municipal': ['municipal/community', 'municipal sewage system', 'sanitary sewer', 'sewer', 'sewer connected', \n",
    "                  'sewer to lot', 'sewer available', 'public sewer', 'attached to municipal'],\n",
    "    'septic': ['septic tank', 'septic system', 'septic system: common', 'septic field', 'septic tank and field', \n",
    "               'septic tank & mound', 'mound septic', 'septic tank & field', 'septic needed', 'engineered septic'],\n",
    "    'private': ['private sewer', 'private sewer', 'holding tank', 'low pressure sewage sys', 'shared septic'],\n",
    "    'alternative': ['aerobic treatment system', 'facultative lagoon', 'lagoon', 'outflow tank', 'open discharge', \n",
    "                    'liquid surface dis', 'pump', 'tank & straight discharge'],\n",
    "    'none': ['no sewage system', 'outhouse', 'none'],\n",
    "}"
   ]
  },
  {
   "cell_type": "code",
   "execution_count": null,
   "metadata": {
    "execution": {
     "iopub.execute_input": "2025-02-22T06:43:26.56413Z",
     "iopub.status.busy": "2025-02-22T06:43:26.563796Z",
     "iopub.status.idle": "2025-02-22T06:43:26.76149Z",
     "shell.execute_reply": "2025-02-22T06:43:26.76042Z",
     "shell.execute_reply.started": "2025-02-22T06:43:26.564104Z"
    },
    "trusted": true
   },
   "outputs": [],
   "source": [
    "df['Sewer new'] = df['Sewer']\n",
    "df['Sewer new'] = df['Sewer new'].apply(lambda x: check_type(x, sewage_categories))\n",
    "df['Sewer new'] = df['Sewer new'].fillna('none')\n",
    "\n",
    "df['Sewer new'].value_counts()"
   ]
  },
  {
   "cell_type": "markdown",
   "metadata": {},
   "source": [
    "# Additional Features "
   ]
  },
  {
   "cell_type": "markdown",
   "metadata": {},
   "source": [
    "Let's add some additional features like Pool, Gerden, View and Balcony. "
   ]
  },
  {
   "cell_type": "code",
   "execution_count": null,
   "metadata": {
    "execution": {
     "iopub.execute_input": "2025-02-22T06:43:26.763012Z",
     "iopub.status.busy": "2025-02-22T06:43:26.762651Z",
     "iopub.status.idle": "2025-02-22T06:43:26.767579Z",
     "shell.execute_reply": "2025-02-22T06:43:26.766498Z",
     "shell.execute_reply.started": "2025-02-22T06:43:26.762969Z"
    },
    "trusted": true
   },
   "outputs": [],
   "source": [
    "mix_features = ['Basement', 'Exterior', 'Features', 'Fireplace', 'Garage', 'Heating', 'Parking']"
   ]
  },
  {
   "cell_type": "code",
   "execution_count": null,
   "metadata": {
    "execution": {
     "iopub.execute_input": "2025-02-22T06:43:26.768969Z",
     "iopub.status.busy": "2025-02-22T06:43:26.768674Z",
     "iopub.status.idle": "2025-02-22T06:43:27.439394Z",
     "shell.execute_reply": "2025-02-22T06:43:27.438333Z",
     "shell.execute_reply.started": "2025-02-22T06:43:26.768945Z"
    },
    "scrolled": true,
    "trusted": true
   },
   "outputs": [],
   "source": [
    "df['Combined'] = df[mix_features].astype(str).agg(','.join, axis=1)\n",
    "df.head(1)"
   ]
  },
  {
   "cell_type": "code",
   "execution_count": null,
   "metadata": {
    "execution": {
     "iopub.execute_input": "2025-02-22T06:43:27.440717Z",
     "iopub.status.busy": "2025-02-22T06:43:27.440444Z",
     "iopub.status.idle": "2025-02-22T06:43:27.778811Z",
     "shell.execute_reply": "2025-02-22T06:43:27.777596Z",
     "shell.execute_reply.started": "2025-02-22T06:43:27.440694Z"
    },
    "trusted": true
   },
   "outputs": [],
   "source": [
    "##### Extract unique features\n",
    "unique_mix_features = set()\n",
    "\n",
    "for features in df['Combined'].dropna():\n",
    "    # Remove brackets and extra quotes\n",
    "    cleaned_features = features.replace(\"[\", \"\").replace(\"]\", \"\").replace('\"', '').replace(\"'\", \"\")\n",
    "    # Split by comma\n",
    "    feature_list = [f.strip() for f in cleaned_features.split(\",\")]\n",
    "    unique_mix_features.update(feature_list)\n",
    "\n",
    "print(len(unique_mix_features), unique_mix_features)"
   ]
  },
  {
   "cell_type": "markdown",
   "metadata": {},
   "source": [
    "# Pool"
   ]
  },
  {
   "cell_type": "markdown",
   "metadata": {},
   "source": [
    "Let's add Pool feature"
   ]
  },
  {
   "cell_type": "code",
   "execution_count": null,
   "metadata": {
    "execution": {
     "iopub.execute_input": "2025-02-22T06:43:27.78002Z",
     "iopub.status.busy": "2025-02-22T06:43:27.779757Z",
     "iopub.status.idle": "2025-02-22T06:43:27.784544Z",
     "shell.execute_reply": "2025-02-22T06:43:27.783422Z",
     "shell.execute_reply.started": "2025-02-22T06:43:27.779998Z"
    },
    "trusted": true
   },
   "outputs": [],
   "source": [
    "pool_features = [\"swimming pool\", \"public swimming pool\"]"
   ]
  },
  {
   "cell_type": "code",
   "execution_count": null,
   "metadata": {
    "execution": {
     "iopub.execute_input": "2025-02-22T06:43:27.785973Z",
     "iopub.status.busy": "2025-02-22T06:43:27.785595Z",
     "iopub.status.idle": "2025-02-22T06:43:28.245892Z",
     "shell.execute_reply": "2025-02-22T06:43:28.244834Z",
     "shell.execute_reply.started": "2025-02-22T06:43:27.785934Z"
    },
    "trusted": true
   },
   "outputs": [],
   "source": [
    "df['Pool'] = df['Combined'].apply(lambda x: check_keywords(x, pool_features))\n",
    "df['Pool'].value_counts()"
   ]
  },
  {
   "cell_type": "markdown",
   "metadata": {},
   "source": [
    "# Garden"
   ]
  },
  {
   "cell_type": "code",
   "execution_count": null,
   "metadata": {
    "execution": {
     "iopub.execute_input": "2025-02-22T06:43:28.247314Z",
     "iopub.status.busy": "2025-02-22T06:43:28.246981Z",
     "iopub.status.idle": "2025-02-22T06:43:28.251584Z",
     "shell.execute_reply": "2025-02-22T06:43:28.250507Z",
     "shell.execute_reply.started": "2025-02-22T06:43:28.247278Z"
    },
    "trusted": true
   },
   "outputs": [],
   "source": [
    "garden_features = [\"vegetable garden\", \"garden\", \"fruit trees/shrubs\", \"private yard\", \n",
    "                   \"partially landscaped\", \"landscaped\"]"
   ]
  },
  {
   "cell_type": "code",
   "execution_count": null,
   "metadata": {
    "execution": {
     "iopub.execute_input": "2025-02-22T06:43:28.253031Z",
     "iopub.status.busy": "2025-02-22T06:43:28.25269Z",
     "iopub.status.idle": "2025-02-22T06:43:28.732661Z",
     "shell.execute_reply": "2025-02-22T06:43:28.731468Z",
     "shell.execute_reply.started": "2025-02-22T06:43:28.252985Z"
    },
    "trusted": true
   },
   "outputs": [],
   "source": [
    "df['Garden'] = df['Combined'].apply(lambda x: check_keywords(x, garden_features))\n",
    "df['Garden'].value_counts()"
   ]
  },
  {
   "cell_type": "markdown",
   "metadata": {},
   "source": [
    "# View"
   ]
  },
  {
   "cell_type": "code",
   "execution_count": null,
   "metadata": {
    "execution": {
     "iopub.execute_input": "2025-02-22T06:43:28.734271Z",
     "iopub.status.busy": "2025-02-22T06:43:28.733869Z",
     "iopub.status.idle": "2025-02-22T06:43:28.739099Z",
     "shell.execute_reply": "2025-02-22T06:43:28.73816Z",
     "shell.execute_reply.started": "2025-02-22T06:43:28.734211Z"
    },
    "trusted": true
   },
   "outputs": [],
   "source": [
    "view_features = [\"View Downtown\", \"River View\", \"View City\", \"View Lake\", \"Lake View\", \n",
    "                 \"Ravine View\", \"River Valley View\"]\n",
    "\n",
    "view_features = [f.lower() for f in view_features]"
   ]
  },
  {
   "cell_type": "code",
   "execution_count": null,
   "metadata": {
    "execution": {
     "iopub.execute_input": "2025-02-22T06:43:28.740581Z",
     "iopub.status.busy": "2025-02-22T06:43:28.740164Z",
     "iopub.status.idle": "2025-02-22T06:43:28.760316Z",
     "shell.execute_reply": "2025-02-22T06:43:28.75912Z",
     "shell.execute_reply.started": "2025-02-22T06:43:28.740541Z"
    },
    "trusted": true
   },
   "outputs": [],
   "source": [
    "def check_view(features, keywords):\n",
    "\n",
    "    try:\n",
    "        cleaned_features = features.replace(\"[\", \"\").replace(\"]\", \"\").replace('\"', '').replace(\"'\", \"\").replace(\";\", \",\")\n",
    "        list_to_check = [f.strip().lower() for f in cleaned_features.split(',')]\n",
    "        common = set(list_to_check) & set(keywords)\n",
    "        \n",
    "        if common: \n",
    "            return list(common)[0]  \n",
    "            \n",
    "    except AttributeError:\n",
    "        return np.nan\n",
    "    \n",
    "    return np.nan"
   ]
  },
  {
   "cell_type": "code",
   "execution_count": null,
   "metadata": {
    "execution": {
     "iopub.execute_input": "2025-02-22T06:43:28.76153Z",
     "iopub.status.busy": "2025-02-22T06:43:28.761193Z",
     "iopub.status.idle": "2025-02-22T06:43:29.254936Z",
     "shell.execute_reply": "2025-02-22T06:43:29.253964Z",
     "shell.execute_reply.started": "2025-02-22T06:43:28.761483Z"
    },
    "trusted": true
   },
   "outputs": [],
   "source": [
    "df['View'] = df['Combined'].apply(lambda x: check_view(x, view_features))\n",
    "df['View'].value_counts()"
   ]
  },
  {
   "cell_type": "code",
   "execution_count": null,
   "metadata": {
    "execution": {
     "iopub.execute_input": "2025-02-22T06:43:29.256351Z",
     "iopub.status.busy": "2025-02-22T06:43:29.255957Z",
     "iopub.status.idle": "2025-02-22T06:43:29.283069Z",
     "shell.execute_reply": "2025-02-22T06:43:29.28205Z",
     "shell.execute_reply.started": "2025-02-22T06:43:29.256308Z"
    },
    "trusted": true
   },
   "outputs": [],
   "source": [
    "df.loc[df['View'].isin(['view lake', 'lake view']), 'View'] = 'Lake'\n",
    "df.loc[df['View'].isin(['view downtown']), 'View'] = 'Downtown'\n",
    "df.loc[df['View'].isin(['view city']), 'View'] = 'City'\n",
    "df.loc[df['View'].isin(['river view']), 'View'] = 'River'\n",
    "df.loc[df['View'].isin(['ravine view', 'river valley view']), 'View'] = 'Valley'\n",
    "\n",
    "df['View'].value_counts()"
   ]
  },
  {
   "cell_type": "markdown",
   "metadata": {},
   "source": [
    "# Balcony"
   ]
  },
  {
   "cell_type": "code",
   "execution_count": null,
   "metadata": {
    "execution": {
     "iopub.execute_input": "2025-02-22T06:43:29.284601Z",
     "iopub.status.busy": "2025-02-22T06:43:29.284258Z",
     "iopub.status.idle": "2025-02-22T06:43:29.293605Z",
     "shell.execute_reply": "2025-02-22T06:43:29.292519Z",
     "shell.execute_reply.started": "2025-02-22T06:43:29.284574Z"
    },
    "trusted": true
   },
   "outputs": [],
   "source": [
    "balcony_features = ['Balcony', 'Balcony/Deck', 'Balcony/Patio']\n",
    "balcony_features = [f.lower() for f in balcony_features]"
   ]
  },
  {
   "cell_type": "code",
   "execution_count": null,
   "metadata": {
    "execution": {
     "iopub.execute_input": "2025-02-22T06:43:29.295322Z",
     "iopub.status.busy": "2025-02-22T06:43:29.294928Z",
     "iopub.status.idle": "2025-02-22T06:43:29.766478Z",
     "shell.execute_reply": "2025-02-22T06:43:29.76553Z",
     "shell.execute_reply.started": "2025-02-22T06:43:29.295287Z"
    },
    "trusted": true
   },
   "outputs": [],
   "source": [
    "df['Balcony'] = df['Combined'].apply(lambda x: check_keywords(x, balcony_features))\n",
    "df['Balcony'].value_counts()"
   ]
  },
  {
   "cell_type": "code",
   "execution_count": null,
   "metadata": {
    "execution": {
     "iopub.execute_input": "2025-02-22T06:43:29.767625Z",
     "iopub.status.busy": "2025-02-22T06:43:29.767329Z",
     "iopub.status.idle": "2025-02-22T06:43:29.792928Z",
     "shell.execute_reply": "2025-02-22T06:43:29.791708Z",
     "shell.execute_reply.started": "2025-02-22T06:43:29.767601Z"
    },
    "trusted": true
   },
   "outputs": [],
   "source": [
    "df = df.drop(columns=['streetAddress', 'postalCode', 'description', 'priceCurrency', 'Air Conditioning', \n",
    "                 'Basement', 'Exterior', 'Features', 'Fireplace', 'Garage', 'Heating', 'MLS® #', 'Roof', \n",
    "                 'Sewer', 'Waterfront', 'Parking', 'Flooring', 'Fireplace Features', 'Combined', \n",
    "                 'Subdivision', 'property-sqft', 'Square Footage', 'Bath', 'Property Tax'])"
   ]
  },
  {
   "cell_type": "code",
   "execution_count": null,
   "metadata": {
    "execution": {
     "iopub.execute_input": "2025-02-22T06:43:29.794531Z",
     "iopub.status.busy": "2025-02-22T06:43:29.794157Z",
     "iopub.status.idle": "2025-02-22T06:43:29.847419Z",
     "shell.execute_reply": "2025-02-22T06:43:29.845923Z",
     "shell.execute_reply.started": "2025-02-22T06:43:29.794503Z"
    },
    "trusted": true
   },
   "outputs": [],
   "source": [
    "df = df.rename(columns={'addressLocality': 'City', \n",
    "                        'addressRegion': 'Province', \n",
    "                        'latitude': 'Latitude', \n",
    "                        'longitude': 'Longitude', \n",
    "                        'price': 'Price',\n",
    "                        'property-baths': 'Bathrooms', \n",
    "                        'property-beds': 'Bedrooms', \n",
    "                        'Square Footage new': 'Square Footage', \n",
    "                        'Garage new': 'Garage',\t\n",
    "                        'Parking new': 'Parking',\t\n",
    "                        'Basement new': 'Basement', \n",
    "                        'Exterior new': 'Exterior', \n",
    "                        'Fireplace new': 'Fireplace', \n",
    "                        'Heating new': 'Heating', \n",
    "                        'Flooring new': 'Flooring', \n",
    "                        'Roof new': 'Roof', \n",
    "                        'Waterfront new': 'Waterfront', \n",
    "                        'Sewer new': 'Sewer'})"
   ]
  },
  {
   "cell_type": "code",
   "execution_count": null,
   "metadata": {
    "execution": {
     "iopub.execute_input": "2025-02-22T06:43:29.849269Z",
     "iopub.status.busy": "2025-02-22T06:43:29.848823Z",
     "iopub.status.idle": "2025-02-22T06:43:29.956026Z",
     "shell.execute_reply": "2025-02-22T06:43:29.954844Z",
     "shell.execute_reply.started": "2025-02-22T06:43:29.849207Z"
    },
    "trusted": true
   },
   "outputs": [],
   "source": [
    "df.info()"
   ]
  },
  {
   "cell_type": "markdown",
   "metadata": {},
   "source": [
    "# Types"
   ]
  },
  {
   "cell_type": "code",
   "execution_count": null,
   "metadata": {
    "execution": {
     "iopub.execute_input": "2025-02-22T06:43:29.965162Z",
     "iopub.status.busy": "2025-02-22T06:43:29.964789Z",
     "iopub.status.idle": "2025-02-22T06:43:29.989975Z",
     "shell.execute_reply": "2025-02-22T06:43:29.988799Z",
     "shell.execute_reply.started": "2025-02-22T06:43:29.965129Z"
    },
    "trusted": true
   },
   "outputs": [],
   "source": [
    "df['Square Footage'] = df['Square Footage'].str.replace(',','')"
   ]
  },
  {
   "cell_type": "code",
   "execution_count": null,
   "metadata": {
    "execution": {
     "iopub.execute_input": "2025-02-22T06:43:29.992442Z",
     "iopub.status.busy": "2025-02-22T06:43:29.992011Z",
     "iopub.status.idle": "2025-02-22T06:43:30.029179Z",
     "shell.execute_reply": "2025-02-22T06:43:30.027913Z",
     "shell.execute_reply.started": "2025-02-22T06:43:29.992401Z"
    },
    "scrolled": true,
    "trusted": true
   },
   "outputs": [],
   "source": [
    "number_columns = ['Latitude', 'Longitude', 'Price', 'Bedrooms', 'Bathrooms', 'Acreage', \n",
    "                  'Square Footage']\n",
    "\n",
    "for col in number_columns: \n",
    "    df[col] = df[col].astype(float)"
   ]
  },
  {
   "cell_type": "code",
   "execution_count": null,
   "metadata": {
    "execution": {
     "iopub.execute_input": "2025-02-22T06:43:30.030567Z",
     "iopub.status.busy": "2025-02-22T06:43:30.030269Z",
     "iopub.status.idle": "2025-02-22T06:43:30.120965Z",
     "shell.execute_reply": "2025-02-22T06:43:30.119916Z",
     "shell.execute_reply.started": "2025-02-22T06:43:30.030533Z"
    },
    "trusted": true
   },
   "outputs": [],
   "source": [
    "df.info()"
   ]
  },
  {
   "cell_type": "markdown",
   "metadata": {},
   "source": [
    "# Remove inconsistent data"
   ]
  },
  {
   "cell_type": "code",
   "execution_count": null,
   "metadata": {
    "execution": {
     "iopub.execute_input": "2025-02-22T06:43:30.122422Z",
     "iopub.status.busy": "2025-02-22T06:43:30.122032Z",
     "iopub.status.idle": "2025-02-22T06:43:30.156068Z",
     "shell.execute_reply": "2025-02-22T06:43:30.154877Z",
     "shell.execute_reply.started": "2025-02-22T06:43:30.122395Z"
    },
    "trusted": true
   },
   "outputs": [],
   "source": [
    "data = df.copy()"
   ]
  },
  {
   "cell_type": "markdown",
   "metadata": {},
   "source": [
    "### Square Footage, Bedrooms, and Bathrooms"
   ]
  },
  {
   "cell_type": "markdown",
   "metadata": {},
   "source": [
    "Let's remove all houses with out Bedroom or Bathrooms"
   ]
  },
  {
   "cell_type": "code",
   "execution_count": null,
   "metadata": {
    "execution": {
     "iopub.execute_input": "2025-02-22T06:43:30.157178Z",
     "iopub.status.busy": "2025-02-22T06:43:30.156884Z",
     "iopub.status.idle": "2025-02-22T06:43:30.199436Z",
     "shell.execute_reply": "2025-02-22T06:43:30.198305Z",
     "shell.execute_reply.started": "2025-02-22T06:43:30.157155Z"
    },
    "trusted": true
   },
   "outputs": [],
   "source": [
    "data.dropna(subset=[\"Bedrooms\", \"Bathrooms\", \"Square Footage\"], inplace=True)\n",
    "data[[\"Bedrooms\", \"Bathrooms\", \"Square Footage\"]].describe()"
   ]
  },
  {
   "cell_type": "markdown",
   "metadata": {},
   "source": [
    "Remove also rows with 'Square Footage' less then 120 sqft."
   ]
  },
  {
   "cell_type": "code",
   "execution_count": null,
   "metadata": {
    "execution": {
     "iopub.execute_input": "2025-02-22T06:43:30.201069Z",
     "iopub.status.busy": "2025-02-22T06:43:30.200671Z",
     "iopub.status.idle": "2025-02-22T06:43:30.21492Z",
     "shell.execute_reply": "2025-02-22T06:43:30.213718Z",
     "shell.execute_reply.started": "2025-02-22T06:43:30.201037Z"
    },
    "trusted": true
   },
   "outputs": [],
   "source": [
    "data = data[data[\"Square Footage\"] > 120]"
   ]
  },
  {
   "cell_type": "markdown",
   "metadata": {},
   "source": [
    "Remove rows with no bedrooms or bathrooms"
   ]
  },
  {
   "cell_type": "code",
   "execution_count": null,
   "metadata": {
    "execution": {
     "iopub.execute_input": "2025-02-22T06:43:30.216352Z",
     "iopub.status.busy": "2025-02-22T06:43:30.215965Z",
     "iopub.status.idle": "2025-02-22T06:43:30.221096Z",
     "shell.execute_reply": "2025-02-22T06:43:30.219873Z",
     "shell.execute_reply.started": "2025-02-22T06:43:30.216324Z"
    },
    "trusted": true
   },
   "outputs": [],
   "source": [
    "# data = data[(data[\"Bedrooms\"] > 0) & (data[\"Bathrooms\"] > 0)]"
   ]
  },
  {
   "cell_type": "code",
   "execution_count": null,
   "metadata": {
    "execution": {
     "iopub.execute_input": "2025-02-22T06:43:30.222798Z",
     "iopub.status.busy": "2025-02-22T06:43:30.222354Z",
     "iopub.status.idle": "2025-02-22T06:43:30.262251Z",
     "shell.execute_reply": "2025-02-22T06:43:30.261085Z",
     "shell.execute_reply.started": "2025-02-22T06:43:30.222752Z"
    },
    "trusted": true
   },
   "outputs": [],
   "source": [
    "data[[\"Bedrooms\", \"Bathrooms\", \"Square Footage\"]].describe()"
   ]
  },
  {
   "cell_type": "markdown",
   "metadata": {},
   "source": [
    "### Province and City"
   ]
  },
  {
   "cell_type": "code",
   "execution_count": null,
   "metadata": {
    "execution": {
     "iopub.execute_input": "2025-02-22T06:43:30.263765Z",
     "iopub.status.busy": "2025-02-22T06:43:30.263446Z",
     "iopub.status.idle": "2025-02-22T06:43:30.275699Z",
     "shell.execute_reply": "2025-02-22T06:43:30.274658Z",
     "shell.execute_reply.started": "2025-02-22T06:43:30.263736Z"
    },
    "trusted": true
   },
   "outputs": [],
   "source": [
    "data.Province.value_counts()"
   ]
  },
  {
   "cell_type": "code",
   "execution_count": null,
   "metadata": {
    "execution": {
     "iopub.execute_input": "2025-02-22T06:43:30.276752Z",
     "iopub.status.busy": "2025-02-22T06:43:30.276473Z",
     "iopub.status.idle": "2025-02-22T06:43:30.298402Z",
     "shell.execute_reply": "2025-02-22T06:43:30.297108Z",
     "shell.execute_reply.started": "2025-02-22T06:43:30.276724Z"
    },
    "trusted": true
   },
   "outputs": [],
   "source": [
    "data.City.unique().shape"
   ]
  },
  {
   "cell_type": "code",
   "execution_count": null,
   "metadata": {
    "execution": {
     "iopub.execute_input": "2025-02-22T06:43:30.29986Z",
     "iopub.status.busy": "2025-02-22T06:43:30.29951Z",
     "iopub.status.idle": "2025-02-22T06:43:30.322084Z",
     "shell.execute_reply": "2025-02-22T06:43:30.32097Z",
     "shell.execute_reply.started": "2025-02-22T06:43:30.299828Z"
    },
    "trusted": true
   },
   "outputs": [],
   "source": [
    "data.City.value_counts()[:10]"
   ]
  },
  {
   "cell_type": "markdown",
   "metadata": {},
   "source": [
    "We have 3112 different cities in dataset. Perhebs, we will not use this column while modeling"
   ]
  },
  {
   "cell_type": "markdown",
   "metadata": {},
   "source": [
    "### Price"
   ]
  },
  {
   "cell_type": "code",
   "execution_count": null,
   "metadata": {
    "execution": {
     "iopub.execute_input": "2025-02-22T06:43:30.323667Z",
     "iopub.status.busy": "2025-02-22T06:43:30.323264Z",
     "iopub.status.idle": "2025-02-22T06:43:30.348191Z",
     "shell.execute_reply": "2025-02-22T06:43:30.347102Z",
     "shell.execute_reply.started": "2025-02-22T06:43:30.32362Z"
    },
    "trusted": true
   },
   "outputs": [],
   "source": [
    "data.Price.value_counts()"
   ]
  },
  {
   "cell_type": "markdown",
   "metadata": {},
   "source": [
    "We have a lot of houses with unrealistic low price. Perhebs. some position from rent accidantly were put inro sell patr. Let's delete all houses with price less then 50 000."
   ]
  },
  {
   "cell_type": "code",
   "execution_count": null,
   "metadata": {
    "execution": {
     "iopub.execute_input": "2025-02-22T06:43:30.349923Z",
     "iopub.status.busy": "2025-02-22T06:43:30.34933Z",
     "iopub.status.idle": "2025-02-22T06:43:30.375453Z",
     "shell.execute_reply": "2025-02-22T06:43:30.37377Z",
     "shell.execute_reply.started": "2025-02-22T06:43:30.34989Z"
    },
    "trusted": true
   },
   "outputs": [],
   "source": [
    "data = data[data.Price >= 50_000]"
   ]
  },
  {
   "cell_type": "markdown",
   "metadata": {},
   "source": [
    "### Property Type"
   ]
  },
  {
   "cell_type": "code",
   "execution_count": null,
   "metadata": {
    "execution": {
     "iopub.execute_input": "2025-02-22T06:43:30.376899Z",
     "iopub.status.busy": "2025-02-22T06:43:30.376571Z",
     "iopub.status.idle": "2025-02-22T06:43:30.389295Z",
     "shell.execute_reply": "2025-02-22T06:43:30.387749Z",
     "shell.execute_reply.started": "2025-02-22T06:43:30.37687Z"
    },
    "trusted": true
   },
   "outputs": [],
   "source": [
    "data['Property Type'].value_counts()"
   ]
  },
  {
   "cell_type": "markdown",
   "metadata": {},
   "source": [
    "### Garage, Parking, "
   ]
  },
  {
   "cell_type": "code",
   "execution_count": null,
   "metadata": {
    "execution": {
     "iopub.execute_input": "2025-02-22T06:43:30.390415Z",
     "iopub.status.busy": "2025-02-22T06:43:30.39009Z",
     "iopub.status.idle": "2025-02-22T06:43:30.421631Z",
     "shell.execute_reply": "2025-02-22T06:43:30.420214Z",
     "shell.execute_reply.started": "2025-02-22T06:43:30.390386Z"
    },
    "trusted": true
   },
   "outputs": [],
   "source": [
    "data[['Garage', 'Parking']].info()"
   ]
  },
  {
   "cell_type": "code",
   "execution_count": null,
   "metadata": {
    "execution": {
     "iopub.execute_input": "2025-02-22T06:43:30.423161Z",
     "iopub.status.busy": "2025-02-22T06:43:30.422756Z",
     "iopub.status.idle": "2025-02-22T06:43:30.447153Z",
     "shell.execute_reply": "2025-02-22T06:43:30.445976Z",
     "shell.execute_reply.started": "2025-02-22T06:43:30.423119Z"
    },
    "trusted": true
   },
   "outputs": [],
   "source": [
    "data['Garage'].value_counts()"
   ]
  },
  {
   "cell_type": "code",
   "execution_count": null,
   "metadata": {
    "execution": {
     "iopub.execute_input": "2025-02-22T06:43:30.44891Z",
     "iopub.status.busy": "2025-02-22T06:43:30.448587Z",
     "iopub.status.idle": "2025-02-22T06:43:30.473635Z",
     "shell.execute_reply": "2025-02-22T06:43:30.472605Z",
     "shell.execute_reply.started": "2025-02-22T06:43:30.44887Z"
    },
    "trusted": true
   },
   "outputs": [],
   "source": [
    "data['Parking'].value_counts()"
   ]
  },
  {
   "cell_type": "markdown",
   "metadata": {},
   "source": [
    "### Fireplace, Pool, Garden, Balcony"
   ]
  },
  {
   "cell_type": "code",
   "execution_count": null,
   "metadata": {
    "execution": {
     "iopub.execute_input": "2025-02-22T06:43:30.475156Z",
     "iopub.status.busy": "2025-02-22T06:43:30.474834Z",
     "iopub.status.idle": "2025-02-22T06:43:30.517812Z",
     "shell.execute_reply": "2025-02-22T06:43:30.516736Z",
     "shell.execute_reply.started": "2025-02-22T06:43:30.475129Z"
    },
    "trusted": true
   },
   "outputs": [],
   "source": [
    "data[['Fireplace', 'Pool', 'Garden', 'Balcony', 'Sewer']].info()"
   ]
  },
  {
   "cell_type": "markdown",
   "metadata": {},
   "source": [
    "### Basement, Exterior, Fireplace, Heating, Flooring, Roof, Sewer, View"
   ]
  },
  {
   "cell_type": "code",
   "execution_count": null,
   "metadata": {
    "execution": {
     "iopub.execute_input": "2025-02-22T06:43:30.520194Z",
     "iopub.status.busy": "2025-02-22T06:43:30.519833Z",
     "iopub.status.idle": "2025-02-22T06:43:30.549237Z",
     "shell.execute_reply": "2025-02-22T06:43:30.548121Z",
     "shell.execute_reply.started": "2025-02-22T06:43:30.520166Z"
    },
    "trusted": true
   },
   "outputs": [],
   "source": [
    "data[['Basement', 'Exterior', 'Heating', 'Flooring', 'Roof', 'View']].info()"
   ]
  },
  {
   "cell_type": "code",
   "execution_count": null,
   "metadata": {
    "execution": {
     "iopub.execute_input": "2025-02-22T06:43:30.550922Z",
     "iopub.status.busy": "2025-02-22T06:43:30.55063Z",
     "iopub.status.idle": "2025-02-22T06:43:30.585549Z",
     "shell.execute_reply": "2025-02-22T06:43:30.584615Z",
     "shell.execute_reply.started": "2025-02-22T06:43:30.550898Z"
    },
    "trusted": true
   },
   "outputs": [],
   "source": [
    "data = data.drop(columns=['View'])\n",
    "data.head()"
   ]
  },
  {
   "cell_type": "code",
   "execution_count": null,
   "metadata": {
    "trusted": true
   },
   "outputs": [],
   "source": []
  },
  {
   "cell_type": "markdown",
   "metadata": {},
   "source": [
    "# Save data"
   ]
  },
  {
   "cell_type": "code",
   "execution_count": null,
   "metadata": {
    "execution": {
     "iopub.execute_input": "2025-02-22T06:43:30.587069Z",
     "iopub.status.busy": "2025-02-22T06:43:30.586699Z",
     "iopub.status.idle": "2025-02-22T06:43:31.507527Z",
     "shell.execute_reply": "2025-02-22T06:43:31.506339Z",
     "shell.execute_reply.started": "2025-02-22T06:43:30.587041Z"
    },
    "trusted": true
   },
   "outputs": [],
   "source": [
    "df.to_csv('cleaned_canada.csv', index=False)"
   ]
  },
  {
   "cell_type": "code",
   "execution_count": null,
   "metadata": {
    "trusted": true
   },
   "outputs": [],
   "source": []
  }
 ],
 "metadata": {
  "kaggle": {
   "accelerator": "none",
   "dataSources": [
    {
     "datasetId": 6681162,
     "sourceId": 10820301,
     "sourceType": "datasetVersion"
    }
   ],
   "dockerImageVersionId": 30918,
   "isGpuEnabled": false,
   "isInternetEnabled": false,
   "language": "python",
   "sourceType": "notebook"
  },
  "kernelspec": {
   "display_name": "Python 3",
   "language": "python",
   "name": "python3"
  },
  "language_info": {
   "codemirror_mode": {
    "name": "ipython",
    "version": 3
   },
   "file_extension": ".py",
   "mimetype": "text/x-python",
   "name": "python",
   "nbconvert_exporter": "python",
   "pygments_lexer": "ipython3",
   "version": "3.10.12"
  }
 },
 "nbformat": 4,
 "nbformat_minor": 4
}
